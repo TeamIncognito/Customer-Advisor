{
 "cells": [
  {
   "cell_type": "code",
   "execution_count": 1,
   "metadata": {},
   "outputs": [
    {
     "name": "stdout",
     "output_type": "stream",
     "text": [
      "hello\n"
     ]
    }
   ],
   "source": [
    "print('hello')"
   ]
  },
  {
   "cell_type": "code",
   "execution_count": 2,
   "metadata": {},
   "outputs": [],
   "source": [
    "import tensorflow\n",
    "from tensorflow.keras.preprocessing import image\n",
    "from tensorflow.keras.layers import GlobalMaxPooling2D\n",
    "from tensorflow.keras.applications.resnet50 import ResNet50,preprocess_input\n",
    "import numpy as np\n",
    "from numpy.linalg import norm\n",
    "import os\n",
    "from tqdm import tqdm\n",
    "import pickle\n",
    "\n",
    "model = ResNet50(weights='imagenet',include_top=False,input_shape=(224,224,3))\n",
    "model.trainable = False\n",
    "\n",
    "model = tensorflow.keras.Sequential([\n",
    "    model,\n",
    "    GlobalMaxPooling2D()\n",
    "])"
   ]
  },
  {
   "cell_type": "code",
   "execution_count": 3,
   "metadata": {},
   "outputs": [
    {
     "name": "stdout",
     "output_type": "stream",
     "text": [
      "Model: \"sequential\"\n",
      "_________________________________________________________________\n",
      "Layer (type)                 Output Shape              Param #   \n",
      "=================================================================\n",
      "resnet50 (Functional)        (None, 7, 7, 2048)        23587712  \n",
      "_________________________________________________________________\n",
      "global_max_pooling2d (Global (None, 2048)              0         \n",
      "=================================================================\n",
      "Total params: 23,587,712\n",
      "Trainable params: 0\n",
      "Non-trainable params: 23,587,712\n",
      "_________________________________________________________________\n",
      "None\n"
     ]
    }
   ],
   "source": [
    "print(model.summary())"
   ]
  },
  {
   "cell_type": "code",
   "execution_count": 4,
   "metadata": {},
   "outputs": [],
   "source": [
    "# Function to extract features which takes image path and model as input\n",
    "def extract_features(img_path,model):\n",
    "#     loading the image and resizing it into 224,224\n",
    "    img = image.load_img(img_path,target_size=(224,224))\n",
    "#     converting the loaded image into array\n",
    "    img_array = image.img_to_array(img)\n",
    "    expanded_img_array = np.expand_dims(img_array, axis=0)\n",
    "    preprocessed_img = preprocess_input(expanded_img_array)\n",
    "    result = model.predict(preprocessed_img).flatten()\n",
    "    normalised_result = result/norm(result)\n",
    "    \n",
    "    return normalised_result"
   ]
  },
  {
   "cell_type": "code",
   "execution_count": 5,
   "metadata": {},
   "outputs": [],
   "source": [
    "filenames = []"
   ]
  },
  {
   "cell_type": "code",
   "execution_count": 6,
   "metadata": {},
   "outputs": [
    {
     "name": "stdout",
     "output_type": "stream",
     "text": [
      "['156.jpeg', '900.jpeg', 'addidas.jpeg', 'ARAMUSK.jpeg', 'Armani exchange.jpeg', 'Arrow.jpeg', 'arrow1.jpeg', 'bata Shoe.jpg', 'bata.jpg', 'bella casa.jpg', 'BRUT.jpeg', 'dollar.jpeg', 'download (1).jpeg', 'download (10).jpeg', 'download (100).jpeg', 'download (11).jpeg', 'download (12).jpeg', 'download (13).jpeg', 'download (14).jpeg', 'download (15).jpeg', 'download (16).jpeg', 'download (17).jpeg', 'download (18).jpeg', 'download (19).jpeg', 'download (2).jpeg', 'download (20).jpeg', 'download (21).jpeg', 'download (22).jpeg', 'download (23).jpeg', 'download (24).jpeg', 'download (25).jpeg', 'download (26).jpeg', 'download (27).jpeg', 'download (28).jpeg', 'download (29).jpeg', 'download (3).jpeg', 'download (30).jpeg', 'download (31).jpeg', 'download (32).jpeg', 'download (33).jpeg', 'download (34).jpeg', 'download (35).jpeg', 'download (36).jpeg', 'download (37).jpeg', 'download (38).jpeg', 'download (39).jpeg', 'download (4).jpeg', 'download (40).jpeg', 'download (41).jpeg', 'download (42).jpeg', 'download (43).jpeg', 'download (44).jpeg', 'download (45).jpeg', 'download (46).jpeg', 'download (47).jpeg', 'download (48).jpeg', 'download (49).jpeg', 'download (5).jpeg', 'download (50).jpeg', 'download (51).jpeg', 'download (52).jpeg', 'download (53).jpeg', 'download (54).jpeg', 'download (55).jpeg', 'download (56).jpeg', 'download (57).jpeg', 'download (58).jpeg', 'download (59).jpeg', 'download (6).jpeg', 'download (60).jpeg', 'download (61).jpeg', 'download (62).jpeg', 'download (63).jpeg', 'download (64).jpeg', 'download (65).jpeg', 'download (66).jpeg', 'download (67).jpeg', 'download (68).jpeg', 'download (69).jpeg', 'download (7).jpeg', 'download (70).jpeg', 'download (71).jpeg', 'download (72).jpeg', 'download (73).jpeg', 'download (74).jpeg', 'download (75).jpeg', 'download (76).jpeg', 'download (77).jpeg', 'download (78).jpeg', 'download (79).jpeg', 'download (8).jpeg', 'download (80).jpeg', 'download (81).jpeg', 'download (82).jpeg', 'download (83).jpeg', 'download (84).jpeg', 'download (85).jpeg', 'download (86).jpeg', 'download (87).jpeg', 'download (88).jpeg', 'download (89).jpeg', 'download (9).jpeg', 'download (90).jpeg', 'download (91).jpeg', 'download (92).jpeg', 'download (93).jpeg', 'download (94).jpeg', 'download (95).jpeg', 'download (96).jpeg', 'download (97).jpeg', 'download (98).jpeg', 'download (99).jpeg', 'download - 2021-11-04T151450.507.jpeg', 'download - 2021-11-04T151456.351.jpeg', 'download - 2021-11-04T151500.068.jpeg', 'download - 2021-11-04T151657.047.jpeg', 'download - 2021-11-04T151704.644.jpeg', 'download - 2021-11-04T151710.739.jpeg', 'download - 2021-11-04T152021.733.jpeg', 'download - 2021-11-04T152025.478.jpeg', 'download - 2021-11-04T152028.758.jpeg', 'download - 2021-11-04T152033.823.jpeg', 'download - 2021-11-04T152038.099.jpeg', 'download - 2021-11-04T152042.540.jpeg', 'download - 2021-11-04T152047.556.jpeg', 'download - 2021-11-04T152050.753.jpeg', 'download - 2021-11-04T152339.300.jpeg', 'download.jpeg', 'download.png', 'download46.jpeg', 'download89.jpeg', 'download990.jpeg', 'engage.jpeg', 'flamingo.jpeg', 'Fossil.jpeg', 'garnier.jpeg', 'HE.jpg', 'head&shoulders.jpeg', 'himalaya.jpeg', 'HRX.jpeg', 'HRX.jpg', 'hrx1.jpeg', 'HRX2.jpeg', 'images (1).jpeg', 'images (10).jpeg', 'images (100).jpeg', 'images (11).jpeg', 'images (12).jpeg', 'images (13).jpeg', 'images (14).jpeg', 'images (15).jpeg', 'images (16).jpeg', 'images (17).jpeg', 'images (18).jpeg', 'images (19).jpeg', 'images (2).jpeg', 'images (20).jpeg', 'images (21).jpeg', 'images (22).jpeg', 'images (23).jpeg', 'images (24).jpeg', 'images (25).jpeg', 'images (26).jpeg', 'images (27).jpeg', 'images (28).jpeg', 'images (29).jpeg', 'images (3).jpeg', 'images (30).jpeg', 'images (31).jpeg', 'images (32).jpeg', 'images (33).jpeg', 'images (34).jpeg', 'images (35).jpeg', 'images (36).jpeg', 'images (37).jpeg', 'images (38).jpeg', 'images (39).jpeg', 'images (4).jpeg', 'images (40).jpeg', 'images (41).jpeg', 'images (42).jpeg', 'images (43).jpeg', 'images (44).jpeg', 'images (45).jpeg', 'images (46).jpeg', 'images (47).jpeg', 'images (48).jpeg', 'images (49).jpeg', 'images (5).jpeg', 'images (50).jpeg', 'images (51).jpeg', 'images (52).jpeg', 'images (53).jpeg', 'images (54).jpeg', 'images (55).jpeg', 'images (56).jpeg', 'images (57).jpeg', 'images (58).jpeg', 'images (59).jpeg', 'images (6).jpeg', 'images (60).jpeg', 'images (61).jpeg', 'images (62).jpeg', 'images (63).jpeg', 'images (64).jpeg', 'images (65).jpeg', 'images (66).jpeg', 'images (67).jpeg', 'images (68).jpeg', 'images (69).jpeg', 'images (7).jpeg', 'images (70).jpeg', 'images (71).jpeg', 'images (72).jpeg', 'images (73).jpeg', 'images (74).jpeg', 'images (75).jpeg', 'images (76).jpeg', 'images (77).jpeg', 'images (78).jpeg', 'images (79).jpeg', 'images (8).jpeg', 'images (80).jpeg', 'images (81).jpeg', 'images (82).jpeg', 'images (83).jpeg', 'images (84).jpeg', 'images (85).jpeg', 'images (86).jpeg', 'images (87).jpeg', 'images (88).jpeg', 'images (89).jpeg', 'images (9).jpeg', 'images (90).jpeg', 'images (91).jpeg', 'images (92).jpeg', 'images (93).jpeg', 'images (94).jpeg', 'images (95).jpeg', 'images (96).jpeg', 'images (97).jpeg', 'images (98).jpeg', 'images (99).jpeg', 'images - 2021-11-04T152141.154.jpeg', 'images - 2021-11-04T152148.067.jpeg', 'images - 2021-11-04T152155.827.jpeg', 'images - 2021-11-04T152300.686.jpeg', 'images - 2021-11-04T152323.174.jpeg', 'images - 2021-11-04T152359.629.jpeg', 'images - 2021-11-04T152406.086.jpeg', 'images - 2021-11-04T152410.428.jpeg', 'images - 2021-11-04T152414.700.jpeg', 'images - 2021-11-04T152432.873.jpeg', 'images - 2021-11-04T152438.457.jpeg', 'images - 2021-11-04T152451.330.jpeg', 'images - 2021-11-04T152511.058.jpeg', 'images - 2021-11-04T152547.404.jpeg', 'images.jpeg', 'J.HAMPSTED.jpeg', 'JACK AND JONES.jpeg', 'JBL.jpeg', 'JOHN PLAYERS.jpg', 'JOY.jpg', 'jpg.jpeg', \"Levi's.jpg\", 'Loreal.jpg', 'LUX INFERNO.jpeg', 'Lux.jpg', 'manyavar.jpeg', 'maxresdefault.jpg', 'melange.jpg', 'navratna.jpg', 'NIVEA MEN.jpg', 'NIVEA.jpeg', 'NOVA.jpeg', 'PARACHUTE.jpeg', 'paragon.jpeg', 'PONDS.jpeg', 'RADO.jpg', 'skybags.jpg', 'TISSOT.jpeg', 'Titan.jpg', 'TOMMY HILFIGER.jpeg', 'VAN HEUSEN.jpg', 'Veet.jpeg', 'Vivel.jpeg', 'vogue.jpeg']\n"
     ]
    }
   ],
   "source": [
    "for file in os.listdir('images'):\n",
    "    filenames.append(os.path.join('images',file))\n",
    "\n",
    "print(os.listdir('images'))"
   ]
  },
  {
   "cell_type": "code",
   "execution_count": 7,
   "metadata": {},
   "outputs": [],
   "source": [
    "for file in os.listdir('images'):\n",
    "    filenames.append(os.path.join('images',file))\n"
   ]
  },
  {
   "cell_type": "code",
   "execution_count": 8,
   "metadata": {},
   "outputs": [
    {
     "name": "stdout",
     "output_type": "stream",
     "text": [
      "['images\\\\156.jpeg', 'images\\\\900.jpeg', 'images\\\\addidas.jpeg', 'images\\\\ARAMUSK.jpeg', 'images\\\\Armani exchange.jpeg', 'images\\\\Arrow.jpeg', 'images\\\\arrow1.jpeg', 'images\\\\bata Shoe.jpg', 'images\\\\bata.jpg', 'images\\\\bella casa.jpg']\n"
     ]
    }
   ],
   "source": [
    "print(filenames[:10])"
   ]
  },
  {
   "cell_type": "code",
   "execution_count": 10,
   "metadata": {},
   "outputs": [
    {
     "name": "stderr",
     "output_type": "stream",
     "text": [
      "100%|████████████████████████████████████████████████████████████████████████████████| 574/574 [02:50<00:00,  3.36it/s]\n"
     ]
    }
   ],
   "source": [
    "features_list =[]\n",
    "\n",
    "for file in tqdm(filenames):\n",
    "    features_list.append(extract_features(file,model))\n",
    "    "
   ]
  },
  {
   "cell_type": "code",
   "execution_count": 11,
   "metadata": {},
   "outputs": [],
   "source": [
    "pickle.dump(features_list,open('embeddings2.pkl','wb'))\n",
    "pickle.dump(filenames,open('filenames2.pkl','wb'))"
   ]
  },
  {
   "cell_type": "code",
   "execution_count": null,
   "metadata": {},
   "outputs": [],
   "source": []
  }
 ],
 "metadata": {
  "kernelspec": {
   "display_name": "Python 3",
   "language": "python",
   "name": "python3"
  },
  "language_info": {
   "codemirror_mode": {
    "name": "ipython",
    "version": 3
   },
   "file_extension": ".py",
   "mimetype": "text/x-python",
   "name": "python",
   "nbconvert_exporter": "python",
   "pygments_lexer": "ipython3",
   "version": "3.7.8"
  }
 },
 "nbformat": 4,
 "nbformat_minor": 4
}

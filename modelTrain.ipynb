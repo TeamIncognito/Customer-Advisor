{
 "cells": [
  {
   "cell_type": "code",
   "execution_count": null,
   "metadata": {},
   "outputs": [],
   "source": []
  },
  {
   "cell_type": "code",
   "execution_count": 2,
   "metadata": {},
   "outputs": [],
   "source": [
    "\"\"\"IMPORTING All the required libraries - tensorflow , pickle , os, numpy\"\"\"\n",
    "\n",
    "import tensorflow\n",
    "from tensorflow.keras.preprocessing import image\n",
    "from tensorflow.keras.layers import GlobalMaxPooling2D\n",
    "from tensorflow.keras.applications.resnet50 import ResNet50,preprocess_input\n",
    "import numpy as np\n",
    "from numpy.linalg import norm\n",
    "import os\n",
    "from tqdm import tqdm\n",
    "import pickle\n",
    "\n",
    "model = ResNet50(weights='imagenet',include_top=False,input_shape=(224,224,3))\n",
    "model.trainable = False\n",
    "\n",
    "model = tensorflow.keras.Sequential([\n",
    "    model,\n",
    "    GlobalMaxPooling2D()\n",
    "])"
   ]
  },
  {
   "cell_type": "code",
   "execution_count": 3,
   "metadata": {},
   "outputs": [
    {
     "name": "stdout",
     "output_type": "stream",
     "text": [
      "Model: \"sequential\"\n",
      "_________________________________________________________________\n",
      "Layer (type)                 Output Shape              Param #   \n",
      "=================================================================\n",
      "resnet50 (Functional)        (None, 7, 7, 2048)        23587712  \n",
      "_________________________________________________________________\n",
      "global_max_pooling2d (Global (None, 2048)              0         \n",
      "=================================================================\n",
      "Total params: 23,587,712\n",
      "Trainable params: 0\n",
      "Non-trainable params: 23,587,712\n",
      "_________________________________________________________________\n"
     ]
    }
   ],
   "source": [
    "#GETTING  MODEL SUMMARY \n",
    "model.summary()"
   ]
  },
  {
   "cell_type": "code",
   "execution_count": 4,
   "metadata": {},
   "outputs": [],
   "source": [
    "# Function to extract features which takes image path and model as input\n",
    "\n",
    "def extract_features(img_path,model):\n",
    "#     loading the image and resizing it into 224,224\n",
    "    img = image.load_img(img_path,target_size=(224,224))\n",
    "#     converting the loaded image into array\n",
    "    img_array = image.img_to_array(img)\n",
    "    expanded_img_array = np.expand_dims(img_array, axis=0)\n",
    "    preprocessed_img = preprocess_input(expanded_img_array)\n",
    "    result = model.predict(preprocessed_img).flatten()\n",
    "    normalised_result = result/norm(result)\n",
    "    \n",
    "    return normalised_result"
   ]
  },
  {
   "cell_type": "code",
   "execution_count": 5,
   "metadata": {},
   "outputs": [],
   "source": [
    "# Initialising an empty array\n",
    "filenames = []"
   ]
  },
  {
   "cell_type": "code",
   "execution_count": 6,
   "metadata": {},
   "outputs": [
    {
     "name": "stdout",
     "output_type": "stream",
     "text": [
      "['16.jpg', 'image09.jpg', 'image10 (2).jpg', 'image10.jpg', 'image1000.jpg', 'image1001.jpg', 'image1002.jpg', 'image1003.jpg', 'image1004.jpg', 'image1005.jpg', 'image1006.jpg', 'image1007.jpg', 'image11.jpg', 'image12.jpg', 'image13.jpg', 'image134.jpg', 'image14.jpg', 'image15.jpg', 'image200.jpg', 'image201.jpg', 'image202.jpg', 'image203.jpg', 'image204.jpg', 'image205.jpg', 'image206.jpg', 'image207.jpg', 'image208.jpg', 'image299.jpg', 'image300.jpg', 'image301.jpg', 'image302.jpg', 'image303.jpg', 'image304.jpg', 'image305.jpg', 'image306.jpg', 'image307.jpg', 'image308.jpg', 'image4324.jpg', 'image45.jpg', 'image50.jpg', 'image500.jpg', 'image501.jpg', 'image50121.jpg', 'image503.jpg', 'image509.jpg', 'image51.jpg', 'image52.jpg', 'image53.jpg', 'image54.jpg', 'image55 (2).jpg', 'image55.jpg', 'image56.jpg', 'image567.jpg', 'image57.jpg', 'image578.jpg', 'image58.jpg', 'image59.jpg', 'image598.jpg', 'image60.jpg', 'image621.jpg', 'image90.jpg']\n"
     ]
    }
   ],
   "source": [
    "# appending the filenames\n",
    "for file in os.listdir('images2'):\n",
    "    filenames.append(os.path.join('images2',file))\n",
    "\n",
    "print(os.listdir('images2'))"
   ]
  },
  {
   "cell_type": "code",
   "execution_count": 104,
   "metadata": {},
   "outputs": [],
   "source": [
    "# getting filenames\n",
    "filenames=['images2/16.jpg',\n",
    "'images2/image09.jpg',\n",
    "'images2/image10.jpg',\n",
    "'images2/image10 (2).jpg',\n",
    "'images2/image11.jpg',\n",
    "'images2/image12.jpg',\n",
    "'images2/image13.jpg',\n",
    "'images2/image14.jpg',\n",
    "'images2/image15.jpg',\n",
    "'images2/image45.jpg',\n",
    "'images2/image50.jpg',\n",
    "'images2/image51.jpg',\n",
    "'images2/image52.jpg',\n",
    "'images2/image53.jpg',\n",
    "'images2/image54.jpg',\n",
    "'images2/image55.jpg',\n",
    "'images2/image55 (2).jpg',\n",
    "'images2/image56.jpg',\n",
    "'images2/image57.jpg',\n",
    "'images2/image58.jpg',\n",
    "'images2/image59.jpg',\n",
    "'images2/image60.jpg',\n",
    "'images2/image90.jpg',\n",
    "'images2/image134.jpg',\n",
    "'images2/image200.jpg',\n",
    "'images2/image201.jpg',\n",
    "'images2/image202.jpg',\n",
    "'images2/image203.jpg',\n",
    "'images2/image204.jpg',\n",
    "'images2/image205.jpg',\n",
    "'images2/image206.jpg',\n",
    "'images2/image207.jpg',\n",
    "'images2/image208.jpg',\n",
    "'images2/image299.jpg',\n",
    "'images2/image300.jpg',\n",
    "'images2/image301.jpg',\n",
    "'images2/image302.jpg',\n",
    "'images2/image303.jpg',\n",
    "'images2/image304.jpg',\n",
    "'images2/image305.jpg',\n",
    "'images2/image306.jpg',\n",
    "'images2/image307.jpg',\n",
    "'images2/image308.jpg',\n",
    "'images2/image500.jpg',\n",
    "'images2/image501.jpg',\n",
    "'images2/image503.jpg',\n",
    "'images2/image509.jpg',\n",
    "'images2/image567.jpg',\n",
    "'images2/image578.jpg',\n",
    "'images2/image598.jpg',\n",
    "'images2/image621.jpg',\n",
    "'images2/image1000.jpg',\n",
    "'images2/image1001.jpg',\n",
    "'images2/image1002.jpg',\n",
    "'images2/image1003.jpg',\n",
    "'images2/image1004.jpg',\n",
    "'images2/image1005.jpg',\n",
    "'images2/image1006.jpg',\n",
    "'images2/image1007.jpg',\n",
    "'images2/image4324.jpg',\n",
    "'images2/image50121.jpg']"
   ]
  },
  {
   "cell_type": "code",
   "execution_count": null,
   "metadata": {},
   "outputs": [],
   "source": [
    "# GETTING FIRST 5 FILENAMES\n",
    "print(filenames[:5])"
   ]
  },
  {
   "cell_type": "code",
   "execution_count": null,
   "metadata": {},
   "outputs": [],
   "source": [
    "\"\"\"Initialising an empty array for storing the features of images\"\"\"\n",
    "features_list =[]\n",
    "\n",
    "for file in tqdm(filenames):\n",
    "    features_list.append(extract_features(file,model))\n",
    "    "
   ]
  },
  {
   "cell_type": "code",
   "execution_count": 129,
   "metadata": {},
   "outputs": [],
   "source": [
    "# Printing the shape o\n",
    "print(np.array(features_list).shape)"
   ]
  },
  {
   "cell_type": "code",
   "execution_count": null,
   "metadata": {},
   "outputs": [],
   "source": [
    "\n",
    "    "
   ]
  },
  {
   "cell_type": "code",
   "execution_count": null,
   "metadata": {},
   "outputs": [],
   "source": []
  },
  {
   "cell_type": "code",
   "execution_count": 130,
   "metadata": {},
   "outputs": [],
   "source": []
  },
  {
   "cell_type": "code",
   "execution_count": null,
   "metadata": {},
   "outputs": [],
   "source": []
  },
  {
   "cell_type": "code",
   "execution_count": null,
   "metadata": {},
   "outputs": [],
   "source": []
  },
  {
   "cell_type": "code",
   "execution_count": null,
   "metadata": {},
   "outputs": [],
   "source": []
  },
  {
   "cell_type": "code",
   "execution_count": 133,
   "metadata": {},
   "outputs": [
    {
     "name": "stdout",
     "output_type": "stream",
     "text": [
      "(61, 2048)\n"
     ]
    }
   ],
   "source": []
  },
  {
   "cell_type": "code",
   "execution_count": 134,
   "metadata": {},
   "outputs": [],
   "source": [
    "pickle.dump(features_list,open('embeddings4.pkl','wb'))\n",
    "pickle.dump(filenames,open('filenames34.pkl','wb'))"
   ]
  },
  {
   "cell_type": "code",
   "execution_count": null,
   "metadata": {},
   "outputs": [],
   "source": []
  },
  {
   "cell_type": "code",
   "execution_count": null,
   "metadata": {},
   "outputs": [],
   "source": []
  }
 ],
 "metadata": {
  "kernelspec": {
   "display_name": "Python 3",
   "language": "python",
   "name": "python3"
  },
  "language_info": {
   "codemirror_mode": {
    "name": "ipython",
    "version": 3
   },
   "file_extension": ".py",
   "mimetype": "text/x-python",
   "name": "python",
   "nbconvert_exporter": "python",
   "pygments_lexer": "ipython3",
   "version": "3.7.8"
  }
 },
 "nbformat": 4,
 "nbformat_minor": 4
}
